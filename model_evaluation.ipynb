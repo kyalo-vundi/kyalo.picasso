{
  "nbformat": 4,
  "nbformat_minor": 0,
  "metadata": {
    "colab": {
      "provenance": [],
      "authorship_tag": "ABX9TyNqcGBIOopSxJXA14Zw5mC6",
      "include_colab_link": true
    },
    "kernelspec": {
      "name": "python3",
      "display_name": "Python 3"
    },
    "language_info": {
      "name": "python"
    }
  },
  "cells": [
    {
      "cell_type": "markdown",
      "metadata": {
        "id": "view-in-github",
        "colab_type": "text"
      },
      "source": [
        "<a href=\"https://colab.research.google.com/github/kyalo-vundi/kyalo.picasso/blob/main/model_evaluation.ipynb\" target=\"_parent\"><img src=\"https://colab.research.google.com/assets/colab-badge.svg\" alt=\"Open In Colab\"/></a>"
      ]
    },
    {
      "cell_type": "markdown",
      "source": [
        "MEAN ABSOLUTE ERROR"
      ],
      "metadata": {
        "id": "dQwUAGiLwGQw"
      }
    },
    {
      "cell_type": "code",
      "source": [
        "from sklearn.metrics import mean_absolute_error\n",
        "Y_actual = [100, 200, 300, 400, 500]\n",
        "Y_predicted = [110, 190, 290, 410, 490]\n",
        "mae = mean_absolute_error(Y_actual,Y_predicted)\n",
        "print(\"mean absolute error is: \",mae)"
      ],
      "metadata": {
        "colab": {
          "base_uri": "https://localhost:8080/"
        },
        "id": "7d08YNSp0hZA",
        "outputId": "d1c57a0b-ebe1-4981-ca6f-76b9f33daaaa"
      },
      "execution_count": 1,
      "outputs": [
        {
          "output_type": "stream",
          "name": "stdout",
          "text": [
            "mean absolute error is:  10.0\n"
          ]
        }
      ]
    },
    {
      "cell_type": "markdown",
      "source": [
        "MEAN SQUARED ERROR"
      ],
      "metadata": {
        "id": "wgxjiiH11wmq"
      }
    },
    {
      "cell_type": "code",
      "source": [
        "from sklearn.metrics import mean_squared_error\n",
        "Y_actual = [100, 200, 300, 400, 500]\n",
        "Y_prédit = [110, 190, 290, 410, 490]\n",
        "# Compute MSE\n",
        "mse = mean_squared_error(Y_actual, Y_predicted)\n",
        "print(\"Mean Squared Error (MSE):\", mse)"
      ],
      "metadata": {
        "colab": {
          "base_uri": "https://localhost:8080/"
        },
        "id": "ipSphG812oSQ",
        "outputId": "56291b9e-997f-4517-9504-57ca57ccee84"
      },
      "execution_count": 2,
      "outputs": [
        {
          "output_type": "stream",
          "name": "stdout",
          "text": [
            "Mean Squared Error (MSE): 100.0\n"
          ]
        }
      ]
    },
    {
      "cell_type": "markdown",
      "source": [
        "ROOT MEAN SQUARED ERROR"
      ],
      "metadata": {
        "id": "avRduQ_h3E87"
      }
    },
    {
      "cell_type": "code",
      "source": [
        "import numpy as np\n",
        "# Compute RMSE\n",
        "rmse = np.sqrt(mse)\n",
        "print(\"Root Mean Squared Error (RMSE):\", rmse)"
      ],
      "metadata": {
        "colab": {
          "base_uri": "https://localhost:8080/"
        },
        "id": "6LuOQwmW3Hvw",
        "outputId": "c631bc44-d7bd-425e-c047-9fb58b99ab1d"
      },
      "execution_count": 3,
      "outputs": [
        {
          "output_type": "stream",
          "name": "stdout",
          "text": [
            "Root Mean Squared Error (RMSE): 10.0\n"
          ]
        }
      ]
    },
    {
      "cell_type": "markdown",
      "source": [
        "ROOT MEAN SQUARED ERROR"
      ],
      "metadata": {
        "id": "x0Yvczyp33Yx"
      }
    },
    {
      "cell_type": "code",
      "source": [
        "from sklearn.metrics import r2_score\n",
        "Y_actual = [100, 200, 300, 400, 500]\n",
        "Y_predicted = [110, 190, 290, 410, 490]\n",
        "# Compute R² score\n",
        "r2 = r2_score(Y_actual, Y_predicted)\n",
        "print(\"R-Squared (R²):\", r2)"
      ],
      "metadata": {
        "colab": {
          "base_uri": "https://localhost:8080/"
        },
        "id": "ze5NpoF736RE",
        "outputId": "3cb5fd71-9bc0-4b88-a400-e3fa8db5f3bc"
      },
      "execution_count": 4,
      "outputs": [
        {
          "output_type": "stream",
          "name": "stdout",
          "text": [
            "R-Squared (R²): 0.995\n"
          ]
        }
      ]
    }
  ]
}