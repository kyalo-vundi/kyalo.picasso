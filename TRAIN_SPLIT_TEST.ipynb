{
  "nbformat": 4,
  "nbformat_minor": 0,
  "metadata": {
    "colab": {
      "provenance": [],
      "authorship_tag": "ABX9TyO24F6fL9qN+3WCVv9XGb6A",
      "include_colab_link": true
    },
    "kernelspec": {
      "name": "python3",
      "display_name": "Python 3"
    },
    "language_info": {
      "name": "python"
    }
  },
  "cells": [
    {
      "cell_type": "markdown",
      "metadata": {
        "id": "view-in-github",
        "colab_type": "text"
      },
      "source": [
        "<a href=\"https://colab.research.google.com/github/kyalo-vundi/kyalo.picasso/blob/main/TRAIN_SPLIT_TEST.ipynb\" target=\"_parent\"><img src=\"https://colab.research.google.com/assets/colab-badge.svg\" alt=\"Open In Colab\"/></a>"
      ]
    },
    {
      "cell_type": "code",
      "execution_count": null,
      "metadata": {
        "colab": {
          "base_uri": "https://localhost:8080/"
        },
        "id": "lRRjwWdHFXtR",
        "outputId": "aa600af9-8dc3-4801-ca4e-fd46436c87c7"
      },
      "outputs": [
        {
          "output_type": "stream",
          "name": "stdout",
          "text": [
            "Training Set Size: 6\n",
            "Validation Set Size: 2\n",
            "Test Set Size: 2\n"
          ]
        }
      ],
      "source": [
        "import numpy as np\n",
        "import pandas as pd\n",
        "import matplotlib as plt\n",
        "from sklearn.model_selection import train_test_split\n",
        "from sklearn.linear_model import LinearRegression\n",
        "from sklearn.preprocessing import PolynomialFeatures\n",
        "X = np.array([1, 2, 3, 4, 5, 6, 7, 8, 9, 10]).reshape(-1, 1)\n",
        "Y = np.array([2, 6, 14, 28, 50, 80, 120, 170, 230, 310])\n",
        "#First split 60% data on  trsining and 40% on testing\n",
        "X_train, X_temp, Y_train, Y_temp = train_test_split(X,Y, test_size=0.4, random_state=42)\n",
        "#Second split 20% for validation and 20% for testing\n",
        "X_val,X_test,Y_val,Y_test = train_test_split(X_temp,Y_temp, test_size= 0.5, random_state=42)\n",
        "# Print dataset sizes\n",
        "print(\"Training Set Size:\", len(X_train))\n",
        "print(\"Validation Set Size:\", len(X_val))\n",
        "print(\"Test Set Size:\", len(X_test))"
      ]
    }
  ]
}